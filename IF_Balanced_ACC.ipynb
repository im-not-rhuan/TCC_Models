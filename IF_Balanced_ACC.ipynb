{
  "cells": [
    {
      "cell_type": "code",
      "execution_count": 1,
      "metadata": {
        "id": "pWGR4iCuuJn8"
      },
      "outputs": [],
      "source": [
        "# Importando as bibliotecas\n",
        "\n",
        "import pandas as pd\n",
        "import numpy as np\n",
        "import matplotlib.pyplot as plt\n",
        "from sklearn.model_selection import train_test_split\n",
        "import sklearn.metrics as metrics\n",
        "from sklearn.metrics import classification_report, confusion_matrix, accuracy_score\n",
        "from sklearn.ensemble import IsolationForest\n",
        "from sklearn.metrics import roc_auc_score, get_scorer_names, balanced_accuracy_score\n",
        "from sklearn.metrics import cohen_kappa_score, matthews_corrcoef, make_scorer\n",
        "from skopt import BayesSearchCV\n",
        "from skopt.space import Real, Integer\n",
        "from sklearn.model_selection import KFold\n",
        "from sklearn.metrics import confusion_matrix"
      ]
    },
    {
      "cell_type": "code",
      "execution_count": 2,
      "metadata": {},
      "outputs": [],
      "source": [
        "def calculate_gmean(accuracies):\n",
        "    # Calcula o produto das taxas de acerto\n",
        "    product = np.prod(accuracies)\n",
        "\n",
        "    # Calcula a raiz quadrada do produto\n",
        "    gmean = np.sqrt(product)\n",
        "\n",
        "    return gmean"
      ]
    },
    {
      "cell_type": "code",
      "execution_count": 3,
      "metadata": {
        "id": "994vbaCYEFX3"
      },
      "outputs": [],
      "source": [
        "def avalia_indices(y_test, y_test_pred):\n",
        "    tn, fp, fn, tp = confusion_matrix(y_test, y_test_pred).ravel()\n",
        "    ac = (tp+tn)/(tp+tn+fp+fn)\n",
        "    gms = []\n",
        "    precision = tp/(tp+fp)\n",
        "    sens = tp/(tp+fn)\n",
        "    f1 = (2*precision*sens)/(precision+sens)\n",
        "    esp = tn/(tn+fp)\n",
        "    gms.append(sens)\n",
        "    gms.append(esp)\n",
        "    tfn = fn/(tp+fn)\n",
        "    tfp = fp/(tn+fp)\n",
        "    roc_auc = roc_auc_score(y_test, y_test_pred)\n",
        "    matt = matthews_corrcoef(y_test, y_test_pred)\n",
        "    ef = (sens+esp)/2\n",
        "    gmean = calculate_gmean(gms)\n",
        "    # auc = roc_auc_score(y_test,y_test_pred)\n",
        "    # matt = matthews_corrcoef(y_test,y_test_pred)\n",
        "    # cohen = cohen_kappa_score(y_test,y_test_pred)\n",
        "    print(f'Acurácia: {ac*100:.2f}%')\n",
        "    print(f'Precisão: {precision*100:.2f}%')\n",
        "    print(f'Recall: {sens*100:.2f}%')\n",
        "    print(f'F1-Score: {f1*100:.2f}%')\n",
        "    print(f'Especificidade: {esp*100:.2f}')\n",
        "    print(f'TFN: {tfn*100:.2f}%')\n",
        "    print(f'TFP: {tfp*100:.2f}%')\n",
        "    print(f'ROC_AUC: {roc_auc*100:.2f}%')\n",
        "    print(f'matt: {matt*100:.2f}%')\n",
        "    print(f'Eficiência: {ef*100:.2f}%')\n",
        "    print(f'Gmean: {gmean*100:.2f}%')\n",
        "    # print(f'Área abaixo da curva ROC: {auc:.2f}')\n",
        "    # print(f'Coeficiente de Matthews: {matt:.2f}')\n",
        "    # print(f'Coeficiente de correlação de Kappa: {cohen:.2f}')\n",
        "\n",
        "    scores = [ac, precision, sens, f1, esp, tfn, tfp, roc_auc, matt, ef, gmean]\n",
        "    labels = ['Acc', '  Prec', 'Recall', 'F1\\nScore','Esp','TFN', 'TFP','ROC\\nAUC', 'Matt', 'Efi', 'G\\nMean']\n",
        "    plt.bar(labels, scores, width=.2)\n",
        "    plt.title('Avaliação dos índices de avaliação')\n",
        "    plt.xlabel('Medidas de Avaliação')\n",
        "    plt.grid(True, which='both', linestyle='--', linewidth=0.8, color='red')"
      ]
    },
    {
      "cell_type": "code",
      "execution_count": 4,
      "metadata": {
        "colab": {
          "base_uri": "https://localhost:8080/",
          "height": 488
        },
        "id": "UOLWykIZuO5C",
        "outputId": "de4e0fa1-5a14-495d-8c78-2f51a7a6e80b"
      },
      "outputs": [
        {
          "data": {
            "text/html": [
              "<div>\n",
              "<style scoped>\n",
              "    .dataframe tbody tr th:only-of-type {\n",
              "        vertical-align: middle;\n",
              "    }\n",
              "\n",
              "    .dataframe tbody tr th {\n",
              "        vertical-align: top;\n",
              "    }\n",
              "\n",
              "    .dataframe thead th {\n",
              "        text-align: right;\n",
              "    }\n",
              "</style>\n",
              "<table border=\"1\" class=\"dataframe\">\n",
              "  <thead>\n",
              "    <tr style=\"text-align: right;\">\n",
              "      <th></th>\n",
              "      <th>Time</th>\n",
              "      <th>V1</th>\n",
              "      <th>V2</th>\n",
              "      <th>V3</th>\n",
              "      <th>V4</th>\n",
              "      <th>V5</th>\n",
              "      <th>V6</th>\n",
              "      <th>V7</th>\n",
              "      <th>V8</th>\n",
              "      <th>V9</th>\n",
              "      <th>...</th>\n",
              "      <th>V21</th>\n",
              "      <th>V22</th>\n",
              "      <th>V23</th>\n",
              "      <th>V24</th>\n",
              "      <th>V25</th>\n",
              "      <th>V26</th>\n",
              "      <th>V27</th>\n",
              "      <th>V28</th>\n",
              "      <th>Amount</th>\n",
              "      <th>Class</th>\n",
              "    </tr>\n",
              "  </thead>\n",
              "  <tbody>\n",
              "    <tr>\n",
              "      <th>0</th>\n",
              "      <td>0.0</td>\n",
              "      <td>-1.359807</td>\n",
              "      <td>-0.072781</td>\n",
              "      <td>2.536347</td>\n",
              "      <td>1.378155</td>\n",
              "      <td>-0.338321</td>\n",
              "      <td>0.462388</td>\n",
              "      <td>0.239599</td>\n",
              "      <td>0.098698</td>\n",
              "      <td>0.363787</td>\n",
              "      <td>...</td>\n",
              "      <td>-0.018307</td>\n",
              "      <td>0.277838</td>\n",
              "      <td>-0.110474</td>\n",
              "      <td>0.066928</td>\n",
              "      <td>0.128539</td>\n",
              "      <td>-0.189115</td>\n",
              "      <td>0.133558</td>\n",
              "      <td>-0.021053</td>\n",
              "      <td>149.62</td>\n",
              "      <td>1</td>\n",
              "    </tr>\n",
              "    <tr>\n",
              "      <th>1</th>\n",
              "      <td>0.0</td>\n",
              "      <td>1.191857</td>\n",
              "      <td>0.266151</td>\n",
              "      <td>0.166480</td>\n",
              "      <td>0.448154</td>\n",
              "      <td>0.060018</td>\n",
              "      <td>-0.082361</td>\n",
              "      <td>-0.078803</td>\n",
              "      <td>0.085102</td>\n",
              "      <td>-0.255425</td>\n",
              "      <td>...</td>\n",
              "      <td>-0.225775</td>\n",
              "      <td>-0.638672</td>\n",
              "      <td>0.101288</td>\n",
              "      <td>-0.339846</td>\n",
              "      <td>0.167170</td>\n",
              "      <td>0.125895</td>\n",
              "      <td>-0.008983</td>\n",
              "      <td>0.014724</td>\n",
              "      <td>2.69</td>\n",
              "      <td>1</td>\n",
              "    </tr>\n",
              "    <tr>\n",
              "      <th>2</th>\n",
              "      <td>1.0</td>\n",
              "      <td>-1.358354</td>\n",
              "      <td>-1.340163</td>\n",
              "      <td>1.773209</td>\n",
              "      <td>0.379780</td>\n",
              "      <td>-0.503198</td>\n",
              "      <td>1.800499</td>\n",
              "      <td>0.791461</td>\n",
              "      <td>0.247676</td>\n",
              "      <td>-1.514654</td>\n",
              "      <td>...</td>\n",
              "      <td>0.247998</td>\n",
              "      <td>0.771679</td>\n",
              "      <td>0.909412</td>\n",
              "      <td>-0.689281</td>\n",
              "      <td>-0.327642</td>\n",
              "      <td>-0.139097</td>\n",
              "      <td>-0.055353</td>\n",
              "      <td>-0.059752</td>\n",
              "      <td>378.66</td>\n",
              "      <td>1</td>\n",
              "    </tr>\n",
              "    <tr>\n",
              "      <th>3</th>\n",
              "      <td>1.0</td>\n",
              "      <td>-0.966272</td>\n",
              "      <td>-0.185226</td>\n",
              "      <td>1.792993</td>\n",
              "      <td>-0.863291</td>\n",
              "      <td>-0.010309</td>\n",
              "      <td>1.247203</td>\n",
              "      <td>0.237609</td>\n",
              "      <td>0.377436</td>\n",
              "      <td>-1.387024</td>\n",
              "      <td>...</td>\n",
              "      <td>-0.108300</td>\n",
              "      <td>0.005274</td>\n",
              "      <td>-0.190321</td>\n",
              "      <td>-1.175575</td>\n",
              "      <td>0.647376</td>\n",
              "      <td>-0.221929</td>\n",
              "      <td>0.062723</td>\n",
              "      <td>0.061458</td>\n",
              "      <td>123.50</td>\n",
              "      <td>1</td>\n",
              "    </tr>\n",
              "    <tr>\n",
              "      <th>4</th>\n",
              "      <td>2.0</td>\n",
              "      <td>-1.158233</td>\n",
              "      <td>0.877737</td>\n",
              "      <td>1.548718</td>\n",
              "      <td>0.403034</td>\n",
              "      <td>-0.407193</td>\n",
              "      <td>0.095921</td>\n",
              "      <td>0.592941</td>\n",
              "      <td>-0.270533</td>\n",
              "      <td>0.817739</td>\n",
              "      <td>...</td>\n",
              "      <td>-0.009431</td>\n",
              "      <td>0.798278</td>\n",
              "      <td>-0.137458</td>\n",
              "      <td>0.141267</td>\n",
              "      <td>-0.206010</td>\n",
              "      <td>0.502292</td>\n",
              "      <td>0.219422</td>\n",
              "      <td>0.215153</td>\n",
              "      <td>69.99</td>\n",
              "      <td>1</td>\n",
              "    </tr>\n",
              "    <tr>\n",
              "      <th>...</th>\n",
              "      <td>...</td>\n",
              "      <td>...</td>\n",
              "      <td>...</td>\n",
              "      <td>...</td>\n",
              "      <td>...</td>\n",
              "      <td>...</td>\n",
              "      <td>...</td>\n",
              "      <td>...</td>\n",
              "      <td>...</td>\n",
              "      <td>...</td>\n",
              "      <td>...</td>\n",
              "      <td>...</td>\n",
              "      <td>...</td>\n",
              "      <td>...</td>\n",
              "      <td>...</td>\n",
              "      <td>...</td>\n",
              "      <td>...</td>\n",
              "      <td>...</td>\n",
              "      <td>...</td>\n",
              "      <td>...</td>\n",
              "      <td>...</td>\n",
              "    </tr>\n",
              "    <tr>\n",
              "      <th>284802</th>\n",
              "      <td>172786.0</td>\n",
              "      <td>-11.881118</td>\n",
              "      <td>10.071785</td>\n",
              "      <td>-9.834783</td>\n",
              "      <td>-2.066656</td>\n",
              "      <td>-5.364473</td>\n",
              "      <td>-2.606837</td>\n",
              "      <td>-4.918215</td>\n",
              "      <td>7.305334</td>\n",
              "      <td>1.914428</td>\n",
              "      <td>...</td>\n",
              "      <td>0.213454</td>\n",
              "      <td>0.111864</td>\n",
              "      <td>1.014480</td>\n",
              "      <td>-0.509348</td>\n",
              "      <td>1.436807</td>\n",
              "      <td>0.250034</td>\n",
              "      <td>0.943651</td>\n",
              "      <td>0.823731</td>\n",
              "      <td>0.77</td>\n",
              "      <td>1</td>\n",
              "    </tr>\n",
              "    <tr>\n",
              "      <th>284803</th>\n",
              "      <td>172787.0</td>\n",
              "      <td>-0.732789</td>\n",
              "      <td>-0.055080</td>\n",
              "      <td>2.035030</td>\n",
              "      <td>-0.738589</td>\n",
              "      <td>0.868229</td>\n",
              "      <td>1.058415</td>\n",
              "      <td>0.024330</td>\n",
              "      <td>0.294869</td>\n",
              "      <td>0.584800</td>\n",
              "      <td>...</td>\n",
              "      <td>0.214205</td>\n",
              "      <td>0.924384</td>\n",
              "      <td>0.012463</td>\n",
              "      <td>-1.016226</td>\n",
              "      <td>-0.606624</td>\n",
              "      <td>-0.395255</td>\n",
              "      <td>0.068472</td>\n",
              "      <td>-0.053527</td>\n",
              "      <td>24.79</td>\n",
              "      <td>1</td>\n",
              "    </tr>\n",
              "    <tr>\n",
              "      <th>284804</th>\n",
              "      <td>172788.0</td>\n",
              "      <td>1.919565</td>\n",
              "      <td>-0.301254</td>\n",
              "      <td>-3.249640</td>\n",
              "      <td>-0.557828</td>\n",
              "      <td>2.630515</td>\n",
              "      <td>3.031260</td>\n",
              "      <td>-0.296827</td>\n",
              "      <td>0.708417</td>\n",
              "      <td>0.432454</td>\n",
              "      <td>...</td>\n",
              "      <td>0.232045</td>\n",
              "      <td>0.578229</td>\n",
              "      <td>-0.037501</td>\n",
              "      <td>0.640134</td>\n",
              "      <td>0.265745</td>\n",
              "      <td>-0.087371</td>\n",
              "      <td>0.004455</td>\n",
              "      <td>-0.026561</td>\n",
              "      <td>67.88</td>\n",
              "      <td>1</td>\n",
              "    </tr>\n",
              "    <tr>\n",
              "      <th>284805</th>\n",
              "      <td>172788.0</td>\n",
              "      <td>-0.240440</td>\n",
              "      <td>0.530483</td>\n",
              "      <td>0.702510</td>\n",
              "      <td>0.689799</td>\n",
              "      <td>-0.377961</td>\n",
              "      <td>0.623708</td>\n",
              "      <td>-0.686180</td>\n",
              "      <td>0.679145</td>\n",
              "      <td>0.392087</td>\n",
              "      <td>...</td>\n",
              "      <td>0.265245</td>\n",
              "      <td>0.800049</td>\n",
              "      <td>-0.163298</td>\n",
              "      <td>0.123205</td>\n",
              "      <td>-0.569159</td>\n",
              "      <td>0.546668</td>\n",
              "      <td>0.108821</td>\n",
              "      <td>0.104533</td>\n",
              "      <td>10.00</td>\n",
              "      <td>1</td>\n",
              "    </tr>\n",
              "    <tr>\n",
              "      <th>284806</th>\n",
              "      <td>172792.0</td>\n",
              "      <td>-0.533413</td>\n",
              "      <td>-0.189733</td>\n",
              "      <td>0.703337</td>\n",
              "      <td>-0.506271</td>\n",
              "      <td>-0.012546</td>\n",
              "      <td>-0.649617</td>\n",
              "      <td>1.577006</td>\n",
              "      <td>-0.414650</td>\n",
              "      <td>0.486180</td>\n",
              "      <td>...</td>\n",
              "      <td>0.261057</td>\n",
              "      <td>0.643078</td>\n",
              "      <td>0.376777</td>\n",
              "      <td>0.008797</td>\n",
              "      <td>-0.473649</td>\n",
              "      <td>-0.818267</td>\n",
              "      <td>-0.002415</td>\n",
              "      <td>0.013649</td>\n",
              "      <td>217.00</td>\n",
              "      <td>1</td>\n",
              "    </tr>\n",
              "  </tbody>\n",
              "</table>\n",
              "<p>284807 rows × 31 columns</p>\n",
              "</div>"
            ],
            "text/plain": [
              "            Time         V1         V2        V3        V4        V5  \\\n",
              "0            0.0  -1.359807  -0.072781  2.536347  1.378155 -0.338321   \n",
              "1            0.0   1.191857   0.266151  0.166480  0.448154  0.060018   \n",
              "2            1.0  -1.358354  -1.340163  1.773209  0.379780 -0.503198   \n",
              "3            1.0  -0.966272  -0.185226  1.792993 -0.863291 -0.010309   \n",
              "4            2.0  -1.158233   0.877737  1.548718  0.403034 -0.407193   \n",
              "...          ...        ...        ...       ...       ...       ...   \n",
              "284802  172786.0 -11.881118  10.071785 -9.834783 -2.066656 -5.364473   \n",
              "284803  172787.0  -0.732789  -0.055080  2.035030 -0.738589  0.868229   \n",
              "284804  172788.0   1.919565  -0.301254 -3.249640 -0.557828  2.630515   \n",
              "284805  172788.0  -0.240440   0.530483  0.702510  0.689799 -0.377961   \n",
              "284806  172792.0  -0.533413  -0.189733  0.703337 -0.506271 -0.012546   \n",
              "\n",
              "              V6        V7        V8        V9  ...       V21       V22  \\\n",
              "0       0.462388  0.239599  0.098698  0.363787  ... -0.018307  0.277838   \n",
              "1      -0.082361 -0.078803  0.085102 -0.255425  ... -0.225775 -0.638672   \n",
              "2       1.800499  0.791461  0.247676 -1.514654  ...  0.247998  0.771679   \n",
              "3       1.247203  0.237609  0.377436 -1.387024  ... -0.108300  0.005274   \n",
              "4       0.095921  0.592941 -0.270533  0.817739  ... -0.009431  0.798278   \n",
              "...          ...       ...       ...       ...  ...       ...       ...   \n",
              "284802 -2.606837 -4.918215  7.305334  1.914428  ...  0.213454  0.111864   \n",
              "284803  1.058415  0.024330  0.294869  0.584800  ...  0.214205  0.924384   \n",
              "284804  3.031260 -0.296827  0.708417  0.432454  ...  0.232045  0.578229   \n",
              "284805  0.623708 -0.686180  0.679145  0.392087  ...  0.265245  0.800049   \n",
              "284806 -0.649617  1.577006 -0.414650  0.486180  ...  0.261057  0.643078   \n",
              "\n",
              "             V23       V24       V25       V26       V27       V28  Amount  \\\n",
              "0      -0.110474  0.066928  0.128539 -0.189115  0.133558 -0.021053  149.62   \n",
              "1       0.101288 -0.339846  0.167170  0.125895 -0.008983  0.014724    2.69   \n",
              "2       0.909412 -0.689281 -0.327642 -0.139097 -0.055353 -0.059752  378.66   \n",
              "3      -0.190321 -1.175575  0.647376 -0.221929  0.062723  0.061458  123.50   \n",
              "4      -0.137458  0.141267 -0.206010  0.502292  0.219422  0.215153   69.99   \n",
              "...          ...       ...       ...       ...       ...       ...     ...   \n",
              "284802  1.014480 -0.509348  1.436807  0.250034  0.943651  0.823731    0.77   \n",
              "284803  0.012463 -1.016226 -0.606624 -0.395255  0.068472 -0.053527   24.79   \n",
              "284804 -0.037501  0.640134  0.265745 -0.087371  0.004455 -0.026561   67.88   \n",
              "284805 -0.163298  0.123205 -0.569159  0.546668  0.108821  0.104533   10.00   \n",
              "284806  0.376777  0.008797 -0.473649 -0.818267 -0.002415  0.013649  217.00   \n",
              "\n",
              "        Class  \n",
              "0           1  \n",
              "1           1  \n",
              "2           1  \n",
              "3           1  \n",
              "4           1  \n",
              "...       ...  \n",
              "284802      1  \n",
              "284803      1  \n",
              "284804      1  \n",
              "284805      1  \n",
              "284806      1  \n",
              "\n",
              "[284807 rows x 31 columns]"
            ]
          },
          "execution_count": 4,
          "metadata": {},
          "output_type": "execute_result"
        }
      ],
      "source": [
        "d = {0:1,\n",
        "     1:-1}\n",
        "df = pd.read_csv('creditcard.csv')\n",
        "df['Class'] = df['Class'].map(d)\n",
        "df"
      ]
    },
    {
      "cell_type": "code",
      "execution_count": 5,
      "metadata": {
        "colab": {
          "base_uri": "https://localhost:8080/"
        },
        "id": "QxgwvTh0umlf",
        "outputId": "bdb190e0-95aa-46a3-caf8-abffab883fa6"
      },
      "outputs": [
        {
          "data": {
            "text/plain": [
              "array([1, 1, 1, ..., 1, 1, 1], dtype=int64)"
            ]
          },
          "execution_count": 5,
          "metadata": {},
          "output_type": "execute_result"
        }
      ],
      "source": [
        "y = df['Class'].values\n",
        "X= df.iloc[:, :30].values\n",
        "X[:]\n",
        "y"
      ]
    },
    {
      "cell_type": "code",
      "execution_count": 6,
      "metadata": {
        "id": "0zl41_QuvjM0"
      },
      "outputs": [],
      "source": [
        "X_train_val, X_test, y_train_val, y_test = \\\n",
        "    train_test_split(X, y, test_size=0.5, shuffle = True, random_state=27, stratify = y)\n",
        "\n",
        "X_train, X_val, y_train, y_val = \\\n",
        "    train_test_split(X_train_val, y_train_val, test_size=0.5, shuffle = True, random_state=27, stratify = y_train_val)\n",
        "# print((np.bincount(y_train)))"
      ]
    },
    {
      "cell_type": "code",
      "execution_count": 7,
      "metadata": {
        "colab": {
          "base_uri": "https://localhost:8080/"
        },
        "id": "bWK94O2txYmm",
        "outputId": "c0d5be1a-edd2-46a7-bb05-d15564731d27"
      },
      "outputs": [
        {
          "name": "stdout",
          "output_type": "stream",
          "text": [
            "(142404, 30)\n",
            "(71201, 30)\n",
            "(71202, 30)\n",
            "(142404,)\n",
            "(71201,)\n",
            "(71202,)\n"
          ]
        }
      ],
      "source": [
        "from sklearn.preprocessing import StandardScaler\n",
        "scaler = StandardScaler()\n",
        "scaler.fit(X_train)\n",
        "X_train_std = scaler.transform(X_train)\n",
        "scaler.fit(X_val)\n",
        "X_val_std = scaler.transform(X_val)\n",
        "scaler.fit(X_test)\n",
        "X_test_std = scaler.transform(X_test)\n",
        "\n",
        "print(np.shape(X_test))\n",
        "print(np.shape(X_train))\n",
        "print(np.shape(X_val))\n",
        "print(np.shape(y_test))\n",
        "print(np.shape(y_train))\n",
        "print(np.shape(y_val))"
      ]
    },
    {
      "cell_type": "code",
      "execution_count": 26,
      "metadata": {
        "colab": {
          "base_uri": "https://localhost:8080/"
        },
        "id": "MIWFuRpRPSXW",
        "outputId": "5ba1c791-1d32-4436-ff71-58bcd8f8eee3"
      },
      "outputs": [],
      "source": [
        "search_space = {\n",
        "    'n_estimators': Integer((500), (2500)),\n",
        "    'contamination': Real(0.01, 0.5),\n",
        "    'bootstrap': [True, False],\n",
        "    'warm_start': [True, False]\n",
        "}"
      ]
    },
    {
      "cell_type": "code",
      "execution_count": 27,
      "metadata": {},
      "outputs": [],
      "source": [
        "model = IsolationForest(random_state=87)"
      ]
    },
    {
      "cell_type": "code",
      "execution_count": 28,
      "metadata": {},
      "outputs": [
        {
          "data": {
            "text/html": [
              "<style>#sk-container-id-1 {color: black;background-color: white;}#sk-container-id-1 pre{padding: 0;}#sk-container-id-1 div.sk-toggleable {background-color: white;}#sk-container-id-1 label.sk-toggleable__label {cursor: pointer;display: block;width: 100%;margin-bottom: 0;padding: 0.3em;box-sizing: border-box;text-align: center;}#sk-container-id-1 label.sk-toggleable__label-arrow:before {content: \"▸\";float: left;margin-right: 0.25em;color: #696969;}#sk-container-id-1 label.sk-toggleable__label-arrow:hover:before {color: black;}#sk-container-id-1 div.sk-estimator:hover label.sk-toggleable__label-arrow:before {color: black;}#sk-container-id-1 div.sk-toggleable__content {max-height: 0;max-width: 0;overflow: hidden;text-align: left;background-color: #f0f8ff;}#sk-container-id-1 div.sk-toggleable__content pre {margin: 0.2em;color: black;border-radius: 0.25em;background-color: #f0f8ff;}#sk-container-id-1 input.sk-toggleable__control:checked~div.sk-toggleable__content {max-height: 200px;max-width: 100%;overflow: auto;}#sk-container-id-1 input.sk-toggleable__control:checked~label.sk-toggleable__label-arrow:before {content: \"▾\";}#sk-container-id-1 div.sk-estimator input.sk-toggleable__control:checked~label.sk-toggleable__label {background-color: #d4ebff;}#sk-container-id-1 div.sk-label input.sk-toggleable__control:checked~label.sk-toggleable__label {background-color: #d4ebff;}#sk-container-id-1 input.sk-hidden--visually {border: 0;clip: rect(1px 1px 1px 1px);clip: rect(1px, 1px, 1px, 1px);height: 1px;margin: -1px;overflow: hidden;padding: 0;position: absolute;width: 1px;}#sk-container-id-1 div.sk-estimator {font-family: monospace;background-color: #f0f8ff;border: 1px dotted black;border-radius: 0.25em;box-sizing: border-box;margin-bottom: 0.5em;}#sk-container-id-1 div.sk-estimator:hover {background-color: #d4ebff;}#sk-container-id-1 div.sk-parallel-item::after {content: \"\";width: 100%;border-bottom: 1px solid gray;flex-grow: 1;}#sk-container-id-1 div.sk-label:hover label.sk-toggleable__label {background-color: #d4ebff;}#sk-container-id-1 div.sk-serial::before {content: \"\";position: absolute;border-left: 1px solid gray;box-sizing: border-box;top: 0;bottom: 0;left: 50%;z-index: 0;}#sk-container-id-1 div.sk-serial {display: flex;flex-direction: column;align-items: center;background-color: white;padding-right: 0.2em;padding-left: 0.2em;position: relative;}#sk-container-id-1 div.sk-item {position: relative;z-index: 1;}#sk-container-id-1 div.sk-parallel {display: flex;align-items: stretch;justify-content: center;background-color: white;position: relative;}#sk-container-id-1 div.sk-item::before, #sk-container-id-1 div.sk-parallel-item::before {content: \"\";position: absolute;border-left: 1px solid gray;box-sizing: border-box;top: 0;bottom: 0;left: 50%;z-index: -1;}#sk-container-id-1 div.sk-parallel-item {display: flex;flex-direction: column;z-index: 1;position: relative;background-color: white;}#sk-container-id-1 div.sk-parallel-item:first-child::after {align-self: flex-end;width: 50%;}#sk-container-id-1 div.sk-parallel-item:last-child::after {align-self: flex-start;width: 50%;}#sk-container-id-1 div.sk-parallel-item:only-child::after {width: 0;}#sk-container-id-1 div.sk-dashed-wrapped {border: 1px dashed gray;margin: 0 0.4em 0.5em 0.4em;box-sizing: border-box;padding-bottom: 0.4em;background-color: white;}#sk-container-id-1 div.sk-label label {font-family: monospace;font-weight: bold;display: inline-block;line-height: 1.2em;}#sk-container-id-1 div.sk-label-container {text-align: center;}#sk-container-id-1 div.sk-container {/* jupyter's `normalize.less` sets `[hidden] { display: none; }` but bootstrap.min.css set `[hidden] { display: none !important; }` so we also need the `!important` here to be able to override the default hidden behavior on the sphinx rendered scikit-learn.org. See: https://github.com/scikit-learn/scikit-learn/issues/21755 */display: inline-block !important;position: relative;}#sk-container-id-1 div.sk-text-repr-fallback {display: none;}</style><div id=\"sk-container-id-1\" class=\"sk-top-container\"><div class=\"sk-text-repr-fallback\"><pre>BayesSearchCV(cv=10, estimator=IsolationForest(random_state=87), n_iter=20,\n",
              "              n_jobs=-1, scoring=&#x27;balanced_accuracy&#x27;,\n",
              "              search_spaces={&#x27;bootstrap&#x27;: [True, False],\n",
              "                             &#x27;contamination&#x27;: Real(low=0.01, high=0.5, prior=&#x27;uniform&#x27;, transform=&#x27;normalize&#x27;),\n",
              "                             &#x27;n_estimators&#x27;: Integer(low=500, high=2500, prior=&#x27;uniform&#x27;, transform=&#x27;normalize&#x27;),\n",
              "                             &#x27;warm_start&#x27;: [True, False]})</pre><b>In a Jupyter environment, please rerun this cell to show the HTML representation or trust the notebook. <br />On GitHub, the HTML representation is unable to render, please try loading this page with nbviewer.org.</b></div><div class=\"sk-container\" hidden><div class=\"sk-item sk-dashed-wrapped\"><div class=\"sk-label-container\"><div class=\"sk-label sk-toggleable\"><input class=\"sk-toggleable__control sk-hidden--visually\" id=\"sk-estimator-id-1\" type=\"checkbox\" ><label for=\"sk-estimator-id-1\" class=\"sk-toggleable__label sk-toggleable__label-arrow\">BayesSearchCV</label><div class=\"sk-toggleable__content\"><pre>BayesSearchCV(cv=10, estimator=IsolationForest(random_state=87), n_iter=20,\n",
              "              n_jobs=-1, scoring=&#x27;balanced_accuracy&#x27;,\n",
              "              search_spaces={&#x27;bootstrap&#x27;: [True, False],\n",
              "                             &#x27;contamination&#x27;: Real(low=0.01, high=0.5, prior=&#x27;uniform&#x27;, transform=&#x27;normalize&#x27;),\n",
              "                             &#x27;n_estimators&#x27;: Integer(low=500, high=2500, prior=&#x27;uniform&#x27;, transform=&#x27;normalize&#x27;),\n",
              "                             &#x27;warm_start&#x27;: [True, False]})</pre></div></div></div><div class=\"sk-parallel\"><div class=\"sk-parallel-item\"><div class=\"sk-item\"><div class=\"sk-label-container\"><div class=\"sk-label sk-toggleable\"><input class=\"sk-toggleable__control sk-hidden--visually\" id=\"sk-estimator-id-2\" type=\"checkbox\" ><label for=\"sk-estimator-id-2\" class=\"sk-toggleable__label sk-toggleable__label-arrow\">estimator: IsolationForest</label><div class=\"sk-toggleable__content\"><pre>IsolationForest(random_state=87)</pre></div></div></div><div class=\"sk-serial\"><div class=\"sk-item\"><div class=\"sk-estimator sk-toggleable\"><input class=\"sk-toggleable__control sk-hidden--visually\" id=\"sk-estimator-id-3\" type=\"checkbox\" ><label for=\"sk-estimator-id-3\" class=\"sk-toggleable__label sk-toggleable__label-arrow\">IsolationForest</label><div class=\"sk-toggleable__content\"><pre>IsolationForest(random_state=87)</pre></div></div></div></div></div></div></div></div></div></div>"
            ],
            "text/plain": [
              "BayesSearchCV(cv=10, estimator=IsolationForest(random_state=87), n_iter=20,\n",
              "              n_jobs=-1, scoring='balanced_accuracy',\n",
              "              search_spaces={'bootstrap': [True, False],\n",
              "                             'contamination': Real(low=0.01, high=0.5, prior='uniform', transform='normalize'),\n",
              "                             'n_estimators': Integer(low=500, high=2500, prior='uniform', transform='normalize'),\n",
              "                             'warm_start': [True, False]})"
            ]
          },
          "execution_count": 28,
          "metadata": {},
          "output_type": "execute_result"
        }
      ],
      "source": [
        "clf = BayesSearchCV(\n",
        "    estimator=model,\n",
        "    search_spaces=search_space,\n",
        "    n_iter=20,\n",
        "    cv=10,\n",
        "    n_jobs=-1,\n",
        "    scoring='balanced_accuracy'\n",
        ")\n",
        "clf.fit(X_val_std,y=y_val)"
      ]
    },
    {
      "cell_type": "code",
      "execution_count": 29,
      "metadata": {
        "colab": {
          "base_uri": "https://localhost:8080/"
        },
        "id": "tfaaFpSYV9_j",
        "outputId": "68cdf307-a2f9-441f-dee4-38dbf0da8800"
      },
      "outputs": [
        {
          "name": "stdout",
          "output_type": "stream",
          "text": [
            "0.9031823032367846\n",
            "OrderedDict([('bootstrap', True), ('contamination', 0.11563556841850832), ('n_estimators', 500), ('warm_start', False)])\n"
          ]
        }
      ],
      "source": [
        "print(clf.best_score_)\n",
        "print(clf.best_params_)"
      ]
    },
    {
      "cell_type": "code",
      "execution_count": 30,
      "metadata": {},
      "outputs": [
        {
          "name": "stdout",
          "output_type": "stream",
          "text": [
            "{'bootstrap': True, 'contamination': 0.11563556841850832, 'n_estimators': 500, 'warm_start': False}\n"
          ]
        }
      ],
      "source": [
        "params = dict(clf.best_params_)\n",
        "bootstrap = params['bootstrap']\n",
        "contamination = params['contamination']\n",
        "n_estimators = params['n_estimators']\n",
        "warm_start = params['warm_start']\n",
        "print(params)"
      ]
    },
    {
      "cell_type": "code",
      "execution_count": 9,
      "metadata": {},
      "outputs": [],
      "source": [
        "bootstrap = True\n",
        "contamination = 0.11563556841850832\n",
        "n_estimators = 500\n",
        "warm_start = False"
      ]
    },
    {
      "cell_type": "code",
      "execution_count": 10,
      "metadata": {
        "colab": {
          "base_uri": "https://localhost:8080/"
        },
        "id": "2Go3aZ0WrH40",
        "outputId": "1e84aba6-655f-4f36-f735-6470e348d54f"
      },
      "outputs": [],
      "source": [
        "train = IsolationForest(random_state=87, n_jobs=-1, bootstrap= bootstrap, contamination= contamination, n_estimators= n_estimators, warm_start= warm_start)\n",
        "model = train.fit(X_train_std)"
      ]
    },
    {
      "cell_type": "code",
      "execution_count": 11,
      "metadata": {},
      "outputs": [],
      "source": [
        "class MeuModelo:\n",
        "    def __init__(self, bootstrap, contamination, n_estimators, warm_start):\n",
        "        self.bootstrap = bootstrap\n",
        "        self.contamination = contamination\n",
        "        self.n_estimators = n_estimators\n",
        "        self.warm_start = warm_start\n",
        "        self.modelo = IsolationForest(random_state=87, n_jobs=-1, bootstrap= bootstrap, contamination= contamination, n_estimators= n_estimators, warm_start= warm_start)\n",
        "\n",
        "    def treinar(self, X_train):\n",
        "        self.modelo.fit(X_train)\n",
        "\n",
        "    def avaliar(self, X_test, y_test):\n",
        "        y_test_pred = self.modelo.predict(X_test)\n",
        "        conf_matrix = confusion_matrix(y_test, y_test_pred)\n",
        "        # fig, ax = plt.subplots(figsize=(4, 4))\n",
        "        # ax.matshow(conf_matrix, cmap=plt.cm.Reds, alpha=0.9)\n",
        "        # for i in range(conf_matrix.shape[0]):\n",
        "        #     for j in range(conf_matrix.shape[1]):\n",
        "        #         ax.text(x=j, y=i,s=conf_matrix[i, j], va='center', ha='center', size='xx-large')\n",
        "        \n",
        "        # plt.xlabel('Predictions', fontsize=10)\n",
        "        # plt.ylabel('Actuals', fontsize=10)\n",
        "        # plt.title('Confusion Matrix', fontsize=10)\n",
        "        # plt.show()\n",
        "        tn, fp, fn, tp = confusion_matrix(y_test, y_test_pred).ravel()\n",
        "        ac = (tp+tn)/(tp+tn+fp+fn)\n",
        "        gms = []\n",
        "        precision = tp/(tp+fp)\n",
        "        sens = tp/(tp+fn)\n",
        "        f1 = (2*precision*sens)/(precision+sens)\n",
        "        esp = tn/(tn+fp)\n",
        "        gms.append(sens)\n",
        "        gms.append(esp)\n",
        "        tfn = fn/(tp+fn)\n",
        "        tfp = fp/(tn+fp)\n",
        "        roc_auc = roc_auc_score(y_test, y_test_pred)\n",
        "        matt = matthews_corrcoef(y_test, y_test_pred)\n",
        "        ef = (sens+esp)/2\n",
        "        gmean = calculate_gmean(gms)\n",
        "        return ac, precision, sens, f1, esp, tfn, tfp, roc_auc, matt, ef, gmean"
      ]
    },
    {
      "cell_type": "code",
      "execution_count": 11,
      "metadata": {},
      "outputs": [],
      "source": [
        "y_train_pred = model.predict(X_train_std)"
      ]
    },
    {
      "cell_type": "code",
      "execution_count": 12,
      "metadata": {},
      "outputs": [],
      "source": [
        "y_val_pred = model.predict(X_val_std)"
      ]
    },
    {
      "cell_type": "code",
      "execution_count": 13,
      "metadata": {},
      "outputs": [],
      "source": [
        "y_test_pred = model.predict(X_test_std)"
      ]
    },
    {
      "cell_type": "code",
      "execution_count": 36,
      "metadata": {},
      "outputs": [
        {
          "name": "stdout",
          "output_type": "stream",
          "text": [
            "Balance Acurracy tr: 0.8900059867814976\n"
          ]
        }
      ],
      "source": [
        "print(f'Balance Acurracy tr: {balanced_accuracy_score(y_train, y_train_pred)}')"
      ]
    },
    {
      "cell_type": "code",
      "execution_count": 37,
      "metadata": {},
      "outputs": [
        {
          "name": "stdout",
          "output_type": "stream",
          "text": [
            "Balance Acurracy val: 0.8991349027996673\n"
          ]
        }
      ],
      "source": [
        "print(f'Balance Acurracy val: {balanced_accuracy_score(y_val, y_val_pred)}')"
      ]
    },
    {
      "cell_type": "code",
      "execution_count": 38,
      "metadata": {},
      "outputs": [
        {
          "name": "stdout",
          "output_type": "stream",
          "text": [
            "Balance Acurracy test: 0.8925660352496827\n"
          ]
        }
      ],
      "source": [
        "print(f'Balance Acurracy test: {balanced_accuracy_score(y_test, y_test_pred)}')"
      ]
    },
    {
      "cell_type": "code",
      "execution_count": 15,
      "metadata": {
        "colab": {
          "base_uri": "https://localhost:8080/"
        },
        "id": "qVGDX11zsOhW",
        "outputId": "4b62970c-8632-449f-d58c-1e357b8d7b7d"
      },
      "outputs": [
        {
          "data": {
            "text/plain": [
              "array([[  110,    13],\n",
              "       [ 8124, 62954]], dtype=int64)"
            ]
          },
          "execution_count": 15,
          "metadata": {},
          "output_type": "execute_result"
        }
      ],
      "source": [
        "conf_matrix = confusion_matrix(y_train, y_train_pred)\n",
        "tn, fp, fn, tp = confusion_matrix(y_train, y_train_pred).ravel()\n",
        "conf_matrix"
      ]
    },
    {
      "cell_type": "code",
      "execution_count": 16,
      "metadata": {},
      "outputs": [
        {
          "data": {
            "image/png": "[encoded data removed]",
            "text/plain": [
              "<Figure size 400x400 with 1 Axes>"
            ]
          },
          "metadata": {},
          "output_type": "display_data"
        }
      ],
      "source": [
        "#here\n",
        "fig, ax = plt.subplots(figsize=(4, 4))\n",
        "ax.matshow(conf_matrix, cmap=plt.cm.Reds, alpha=0.9)\n",
        "for i in range(conf_matrix.shape[0]):\n",
        "    for j in range(conf_matrix.shape[1]):\n",
        "        ax.text(x=j, y=i,s=conf_matrix[i, j], va='center', ha='center', size='xx-large')\n",
        " \n",
        "plt.xlabel('Preditos', fontsize=10)\n",
        "plt.ylabel('Reais', fontsize=10)\n",
        "plt.title('Matriz de confusão', fontsize=10)\n",
        "plt.show()"
      ]
    },
    {
      "cell_type": "code",
      "execution_count": 17,
      "metadata": {},
      "outputs": [
        {
          "name": "stdout",
          "output_type": "stream",
          "text": [
            "Acurácia: 88.57%\n",
            "Precisão: 99.98%\n",
            "Recall: 88.57%\n",
            "F1-Score: 93.93%\n",
            "Especificidade: 89.43\n",
            "TFN: 11.43%\n",
            "TFP: 10.57%\n",
            "ROC_AUC: 89.00%\n",
            "matt: 10.13%\n",
            "Eficiência: 89.00%\n",
            "Gmean: 89.00%\n"
          ]
        },
        {
          "data": {
            "image/png": "[encoded data removed]",
            "text/plain": [
              "<Figure size 640x480 with 1 Axes>"
            ]
          },
          "metadata": {},
          "output_type": "display_data"
        }
      ],
      "source": [
        "avalia_indices(y_train, y_train_pred)"
      ]
    },
    {
      "cell_type": "code",
      "execution_count": 18,
      "metadata": {},
      "outputs": [
        {
          "name": "stdout",
          "output_type": "stream",
          "text": [
            "0.8900059867814976\n",
            "0.022999373628578845\n",
            "0.1012883489950295\n"
          ]
        }
      ],
      "source": [
        "print(roc_auc_score(y_train,y_train_pred))\n",
        "print(cohen_kappa_score(y_train,y_train_pred))\n",
        "print(matthews_corrcoef(y_train,y_train_pred))"
      ]
    },
    {
      "cell_type": "code",
      "execution_count": 19,
      "metadata": {},
      "outputs": [
        {
          "data": {
            "text/plain": [
              "array([[  113,    10],\n",
              "       [ 8560, 62519]], dtype=int64)"
            ]
          },
          "execution_count": 19,
          "metadata": {},
          "output_type": "execute_result"
        }
      ],
      "source": [
        "conf_matrix = confusion_matrix(y_val, y_val_pred)\n",
        "tn, fp, fn, tp = confusion_matrix(y_val, y_val_pred).ravel()\n",
        "conf_matrix"
      ]
    },
    {
      "cell_type": "code",
      "execution_count": 22,
      "metadata": {
        "colab": {
          "base_uri": "https://localhost:8080/",
          "height": 501
        },
        "id": "tw8Hwf40x5RE",
        "outputId": "6b69872b-aa6c-4883-a8c6-9f1ed79b82a6"
      },
      "outputs": [
        {
          "data": {
            "image/png": "[encoded data removed]",
            "text/plain": [
              "<Figure size 400x400 with 1 Axes>"
            ]
          },
          "metadata": {},
          "output_type": "display_data"
        }
      ],
      "source": [
        "#here\n",
        "fig, ax = plt.subplots(figsize=(4, 4))\n",
        "ax.matshow(conf_matrix, cmap=plt.cm.Blues, alpha=0.9)\n",
        "for i in range(conf_matrix.shape[0]):\n",
        "    for j in range(conf_matrix.shape[1]):\n",
        "        ax.text(x=j, y=i,s=conf_matrix[i, j], va='center', ha='center', size='xx-large')\n",
        " \n",
        "plt.xlabel('Preditos', fontsize=10)\n",
        "plt.ylabel('Reais', fontsize=10)\n",
        "plt.title('Matriz de confusão', fontsize=10)\n",
        "plt.show()"
      ]
    },
    {
      "cell_type": "code",
      "execution_count": 23,
      "metadata": {},
      "outputs": [
        {
          "name": "stdout",
          "output_type": "stream",
          "text": [
            "Acurácia: 87.96%\n",
            "Precisão: 99.98%\n",
            "Recall: 87.96%\n",
            "F1-Score: 93.59%\n",
            "Especificidade: 91.87\n",
            "TFN: 12.04%\n",
            "TFP: 8.13%\n",
            "ROC_AUC: 89.91%\n",
            "matt: 10.14%\n",
            "Eficiência: 89.91%\n",
            "Gmean: 89.89%\n"
          ]
        },
        {
          "data": {
            "image/png": "[encoded data removed]",
            "text/plain": [
              "<Figure size 640x480 with 1 Axes>"
            ]
          },
          "metadata": {},
          "output_type": "display_data"
        }
      ],
      "source": [
        "avalia_indices(y_val, y_val_pred)"
      ]
    },
    {
      "cell_type": "code",
      "execution_count": 24,
      "metadata": {},
      "outputs": [
        {
          "name": "stdout",
          "output_type": "stream",
          "text": [
            "0.8991349027996675\n",
            "0.022363033725461334\n",
            "0.10135554143327448\n"
          ]
        }
      ],
      "source": [
        "print(roc_auc_score(y_val,y_val_pred))\n",
        "print(cohen_kappa_score(y_val,y_val_pred))\n",
        "print(matthews_corrcoef(y_val,y_val_pred))"
      ]
    },
    {
      "cell_type": "code",
      "execution_count": 25,
      "metadata": {},
      "outputs": [
        {
          "data": {
            "text/plain": [
              "array([[   223,     23],\n",
              "       [ 17254, 124904]], dtype=int64)"
            ]
          },
          "execution_count": 25,
          "metadata": {},
          "output_type": "execute_result"
        }
      ],
      "source": [
        "conf_matrix = confusion_matrix(y_test, y_test_pred)\n",
        "tn, fp, fn, tp = confusion_matrix(y_test, y_test_pred).ravel()\n",
        "conf_matrix"
      ]
    },
    {
      "cell_type": "code",
      "execution_count": 26,
      "metadata": {},
      "outputs": [
        {
          "data": {
            "image/png": "[encoded data removed]",
            "text/plain": [
              "<Figure size 400x400 with 1 Axes>"
            ]
          },
          "metadata": {},
          "output_type": "display_data"
        }
      ],
      "source": [
        "#here\n",
        "fig, ax = plt.subplots(figsize=(4, 4))\n",
        "ax.matshow(conf_matrix, cmap=plt.cm.Greens, alpha=0.9)\n",
        "for i in range(conf_matrix.shape[0]):\n",
        "    for j in range(conf_matrix.shape[1]):\n",
        "        ax.text(x=j, y=i,s=conf_matrix[i, j], va='center', ha='center', size='xx-large')\n",
        " \n",
        "plt.xlabel('Preditos', fontsize=10)\n",
        "plt.ylabel('Reais', fontsize=10)\n",
        "plt.title('Matriz de confusão', fontsize=10)\n",
        "plt.show()"
      ]
    },
    {
      "cell_type": "code",
      "execution_count": 27,
      "metadata": {},
      "outputs": [
        {
          "name": "stdout",
          "output_type": "stream",
          "text": [
            "Acurácia: 87.87%\n",
            "Precisão: 99.98%\n",
            "Recall: 87.86%\n",
            "F1-Score: 93.53%\n",
            "Especificidade: 90.65\n",
            "TFN: 12.14%\n",
            "TFP: 9.35%\n",
            "ROC_AUC: 89.26%\n",
            "matt: 9.94%\n",
            "Eficiência: 89.26%\n",
            "Gmean: 89.25%\n"
          ]
        },
        {
          "data": {
            "image/png": "[encoded data removed]",
            "text/plain": [
              "<Figure size 640x480 with 1 Axes>"
            ]
          },
          "metadata": {},
          "output_type": "display_data"
        }
      ],
      "source": [
        "avalia_indices(y_test, y_test_pred)"
      ]
    },
    {
      "cell_type": "code",
      "execution_count": 28,
      "metadata": {},
      "outputs": [
        {
          "name": "stdout",
          "output_type": "stream",
          "text": [
            "0.8925660352496827\n",
            "0.021832419536038983\n",
            "0.09936520316194215\n"
          ]
        }
      ],
      "source": [
        "print(roc_auc_score(y_test,y_test_pred))\n",
        "print(cohen_kappa_score(y_test,y_test_pred))\n",
        "print(matthews_corrcoef(y_test,y_test_pred))"
      ]
    },
    {
      "cell_type": "code",
      "execution_count": 29,
      "metadata": {},
      "outputs": [],
      "source": [
        "num_folds = 10\n",
        "\n",
        "kf = KFold(n_splits=num_folds)\n",
        "\n",
        "avaliacoes_ac = []\n",
        "avaliacoes_precision = []\n",
        "avaliacoes_sens = []\n",
        "avaliacoes_f1 = []\n",
        "avaliacoes_esp = []\n",
        "avaliacoes_tfn = []\n",
        "avaliacoes_tfp = []\n",
        "avaliacoes_roc = []\n",
        "avaliacoes_matt = []\n",
        "avaliacoes_ef = []\n",
        "avaliacoes_gmean = []\n",
        "\n",
        "# return ac, precision, sens, f1, esp, tfn, tfp, roc_auc, matt, ef, gmean\n",
        "\n",
        "X_kfold = X_test_std.copy()\n",
        "\n",
        "for train_index, test_index in kf.split(X_kfold):\n",
        "    X_tr, X_t = X_kfold[train_index], X_kfold[test_index]\n",
        "    y_tr, y_t = y_test[train_index], y_test[test_index]\n",
        "\n",
        "    modelo = MeuModelo(bootstrap=bootstrap,\n",
        "                        n_estimators=n_estimators, \n",
        "                        contamination=contamination,\n",
        "                        warm_start=warm_start)\n",
        "\n",
        "    modelo.treinar(X_tr)\n",
        "\n",
        "    ac, precision, sens, f1, esp, tfn, tfp, roc_auc, matt, ef, gm = modelo.avaliar(X_t, y_t)\n",
        "\n",
        "    avaliacoes_ac.append(ac)\n",
        "    avaliacoes_precision.append(precision)\n",
        "    avaliacoes_sens.append(sens)\n",
        "    avaliacoes_f1.append(f1)\n",
        "    avaliacoes_esp.append(esp)\n",
        "    avaliacoes_tfn.append(tfn)\n",
        "    avaliacoes_tfp.append(tfp)\n",
        "    avaliacoes_roc.append(roc_auc)\n",
        "    avaliacoes_matt.append(matt)\n",
        "    avaliacoes_ef.append(ef)\n",
        "    avaliacoes_gmean.append(gm)"
      ]
    },
    {
      "cell_type": "code",
      "execution_count": 30,
      "metadata": {},
      "outputs": [
        {
          "data": {
            "text/plain": [
              "[0.8481163351416516,\n",
              " 0.8801390940423437,\n",
              " 0.8853500199207855,\n",
              " 0.9283466890649474,\n",
              " 0.9097349284541403,\n",
              " 0.8712224854137187,\n",
              " 0.8978919167764294,\n",
              " 0.8801688357368976,\n",
              " 0.91563625327999,\n",
              " 0.9259012566758631]"
            ]
          },
          "execution_count": 30,
          "metadata": {},
          "output_type": "execute_result"
        }
      ],
      "source": [
        "media_ac = np.mean(avaliacoes_ac)\n",
        "media_precision = np.mean(avaliacoes_precision)\n",
        "media_sens = np.mean(avaliacoes_sens)\n",
        "media_f1 = np.mean(avaliacoes_f1)\n",
        "media_esp = np.mean(avaliacoes_esp)\n",
        "media_tfn = np.mean(avaliacoes_tfn)\n",
        "media_tfp = np.mean(avaliacoes_tfp)\n",
        "media_roc = np.mean(avaliacoes_roc)\n",
        "media_matt = np.mean(avaliacoes_matt)\n",
        "media_ef = np.mean(avaliacoes_ef)\n",
        "media_gm = np.mean(avaliacoes_gmean)\n",
        "std_ac = np.std(avaliacoes_ac)\n",
        "std_precision = np.std(avaliacoes_precision)\n",
        "std_sens = np.std(avaliacoes_sens)\n",
        "std_f1 = np.std(avaliacoes_f1)\n",
        "std_esp = np.std(avaliacoes_esp)\n",
        "std_tfn = np.std(avaliacoes_tfn)\n",
        "std_tfp = np.std(avaliacoes_tfp)\n",
        "std_roc = np.std(avaliacoes_roc)\n",
        "std_matt = np.std(avaliacoes_matt)\n",
        "std_ef = np.std(avaliacoes_ef)\n",
        "std_gm = np.std(avaliacoes_gmean)\n",
        "avaliacoes_ef"
      ]
    },
    {
      "cell_type": "code",
      "execution_count": 31,
      "metadata": {},
      "outputs": [
        {
          "name": "stdout",
          "output_type": "stream",
          "text": [
            "Acurácia       - Media : 88.57%\t  Desvio Padrão: 0.29%\n",
            "Precisão       - Media : 99.98%\t  Desvio Padrão: 0.01%\n",
            "Recall         - Media : 88.57%\t  Desvio Padrão: 0.29%\n",
            "F1-Score       - Media : 93.93%\t  Desvio Padrão: 0.16%\n",
            "Especificidade - Media : 90.28%\t  Desvio Padrão: 4.89%\n",
            "TFN            - Media : 11.43%\t  Desvio Padrão: 0.29%\n",
            "TFP            - Media : 9.72%\t  Desvio Padrão: 4.89%\n",
            "ROC_AUC        - Media : 89.43%\t  Desvio Padrão: 2.45%\n",
            "Matt           - Media : 10.23%\t  Desvio Padrão: 1.38%\n",
            "Eficiência     - Media : 89.43%\t  Desvio Padrão: 2.45%\n",
            "Gmean          - Media : 89.39%\t  Desvio Padrão: 2.44%\n"
          ]
        }
      ],
      "source": [
        "print(f'Acurácia       - Media : {media_ac*100:.2f}%\\t  Desvio Padrão: {std_ac*100:.2f}%')\n",
        "print(f'Precisão       - Media : {media_precision*100:.2f}%\\t  Desvio Padrão: {std_precision*100:.2f}%')\n",
        "print(f'Recall         - Media : {media_sens*100:.2f}%\\t  Desvio Padrão: {std_sens*100:.2f}%')\n",
        "print(f'F1-Score       - Media : {media_f1*100:.2f}%\\t  Desvio Padrão: {std_f1*100:.2f}%')\n",
        "print(f'Especificidade - Media : {media_esp*100:.2f}%\\t  Desvio Padrão: {std_esp*100:.2f}%')\n",
        "print(f'TFN            - Media : {media_tfn*100:.2f}%\\t  Desvio Padrão: {std_tfn*100:.2f}%')\n",
        "print(f'TFP            - Media : {media_tfp*100:.2f}%\\t  Desvio Padrão: {std_tfp*100:.2f}%')\n",
        "print(f'ROC_AUC        - Media : {media_roc*100:.2f}%\\t  Desvio Padrão: {std_roc*100:.2f}%')\n",
        "print(f'Matt           - Media : {media_matt*100:.2f}%\\t  Desvio Padrão: {std_matt*100:.2f}%')\n",
        "print(f'Eficiência     - Media : {media_ef*100:.2f}%\\t  Desvio Padrão: {std_ef*100:.2f}%')\n",
        "print(f'Gmean          - Media : {media_gm*100:.2f}%\\t  Desvio Padrão: {std_gm*100:.2f}%')"
      ]
    }
  ],
  "metadata": {
    "colab": {
      "provenance": []
    },
    "kernelspec": {
      "display_name": "Python 3",
      "name": "python3"
    },
    "language_info": {
      "codemirror_mode": {
        "name": "ipython",
        "version": 3
      },
      "file_extension": ".py",
      "mimetype": "text/x-python",
      "name": "python",
      "nbconvert_exporter": "python",
      "pygments_lexer": "ipython3",
      "version": "3.11.2"
    }
  },
  "nbformat": 4,
  "nbformat_minor": 0
}
