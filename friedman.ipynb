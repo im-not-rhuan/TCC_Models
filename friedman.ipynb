{
 "cells": [
  {
   "cell_type": "code",
   "execution_count": 1,
   "metadata": {},
   "outputs": [],
   "source": [
    "import numpy as np\n",
    "from scipy.stats import friedmanchisquare\n",
    "import scikit_posthocs as sp\n"
   ]
  },
  {
   "cell_type": "code",
   "execution_count": 2,
   "metadata": {},
   "outputs": [],
   "source": [
    "et_roc = [0.8801788225838858,\n",
    " 0.9369021242174861,\n",
    " 0.9436007405844993,\n",
    " 0.9670030192277133,\n",
    " 0.8992610837438424,\n",
    " 0.8882204867218587,\n",
    " 0.9536311206025652,\n",
    " 0.8990502989799507,\n",
    " 0.9467707134371334,\n",
    " 0.912843135113887]\n",
    " \n",
    "et_matt = [0.9044454490657022,\n",
    " 0.9371131391995499,\n",
    " 0.9441983641519605,\n",
    " 0.9673196976232095,\n",
    " 0.8998592540464462,\n",
    " 0.9071611539774489,\n",
    " 0.9542641210245655,\n",
    " 0.9195075624340485,\n",
    " 0.9469465097946328,\n",
    " 0.9134764473368129]\n",
    " \n",
    "et_efi = [0.9034257584890497,\n",
    " 0.9363042484349722,\n",
    " 0.9430382713445358,\n",
    " 0.9664752219018864,\n",
    " 0.9156462585034013,\n",
    " 0.9062113193190375,\n",
    " 0.9758308929781712,\n",
    " 0.9188744284206823,\n",
    " 0.9460323687356356,\n",
    " 0.9127375830767327]\n",
    "\n",
    "if_roc = [0.8560980510347599,\n",
    " 0.8889665541253429,\n",
    " 0.89466591670768,\n",
    " 0.93650995437107,\n",
    " 0.9173000234576589,\n",
    " 0.8783990139439376,\n",
    " 0.9074220897965447,\n",
    " 0.888927189588463,\n",
    " 0.9237228857249656,\n",
    " 0.9346972597720562]\n",
    "\n",
    "if_matt = [0.8052692384970865,\n",
    " 0.8702873320672435,\n",
    " 0.7731374065480794,\n",
    " 0.8349447231617897,\n",
    " 0.7952146375791695,\n",
    " 0.7918989136184662,\n",
    " 0.8361615877440888,\n",
    " 0.775005276116778,\n",
    " 0.759184897057354,\n",
    " 0.8059820100504951]\n",
    "\n",
    "if_efi = [0.8481163351416516,\n",
    " 0.8801390940423437,\n",
    " 0.8853500199207855,\n",
    " 0.9283466890649474,\n",
    " 0.9097349284541403,\n",
    " 0.8712224854137187,\n",
    " 0.8978919167764294,\n",
    " 0.8801688357368976,\n",
    " 0.91563625327999,\n",
    " 0.9259012566758631]"
   ]
  },
  {
   "cell_type": "code",
   "execution_count": 3,
   "metadata": {},
   "outputs": [
    {
     "name": "stdout",
     "output_type": "stream",
     "text": [
      "Estatística de teste de Friedman: 34.400000000000006\n",
      "Valor-p: 1.981932817933053e-06\n"
     ]
    },
    {
     "data": {
      "text/plain": [
       "1.981932817933053e-06"
      ]
     },
     "execution_count": 3,
     "metadata": {},
     "output_type": "execute_result"
    }
   ],
   "source": [
    "efis = [et_roc, et_matt, et_efi, if_roc, if_matt, if_efi]\n",
    "cols = ['et_roc', 'et_matt', 'et_efi', 'if_roc', 'if_matt', 'if_efi']\n",
    "\n",
    "estatistica, p_valor = friedmanchisquare(*efis)\n",
    "\n",
    "# Exibir resultados\n",
    "print(\"Estatística de teste de Friedman:\", estatistica)\n",
    "print(\"Valor-p:\", p_valor)\n",
    "pvalor = float(p_valor)"
   ]
  },
  {
   "cell_type": "code",
   "execution_count": 5,
   "metadata": {},
   "outputs": [
    {
     "name": "stdout",
     "output_type": "stream",
     "text": [
      "Estatística de teste de Friedman: 34.400000000000006\n",
      "Valor-p: 1.981932817933053e-06\n",
      "\n",
      "Resultados do teste de comparação múltipla de Nemenyi:\n",
      "          1         2         3         4         5         6\n",
      "1  1.000000  0.996998  0.996667  0.918933  0.003939  0.708680\n",
      "2  0.996998  1.000000  1.000000  0.674199  0.000431  0.385834\n",
      "3  0.996667  1.000000  1.000000  0.667168  0.000409  0.379061\n",
      "4  0.918933  0.674199  0.667168  1.000000  0.119560  0.998293\n",
      "5  0.003939  0.000431  0.000409  0.119560  1.000000  0.308122\n",
      "6  0.708680  0.385834  0.379061  0.998293  0.308122  1.000000\n"
     ]
    }
   ],
   "source": [
    "resultados_nemenyi = sp.posthoc_nemenyi(efis)\n",
    "\n",
    "print(\"Estatística de teste de Friedman:\", estatistica)\n",
    "print(\"Valor-p:\", p_valor)\n",
    "print(\"\\nResultados do teste de comparação múltipla de Nemenyi:\")\n",
    "print(resultados_nemenyi)"
   ]
  }
 ],
 "metadata": {
  "kernelspec": {
   "display_name": "Python 3",
   "language": "python",
   "name": "python3"
  },
  "language_info": {
   "codemirror_mode": {
    "name": "ipython",
    "version": 3
   },
   "file_extension": ".py",
   "mimetype": "text/x-python",
   "name": "python",
   "nbconvert_exporter": "python",
   "pygments_lexer": "ipython3",
   "version": "3.11.2"
  },
  "orig_nbformat": 4
 },
 "nbformat": 4,
 "nbformat_minor": 2
}
